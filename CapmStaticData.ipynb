{
 "cells": [
  {
   "cell_type": "code",
   "execution_count": null,
   "id": "c0ee589a",
   "metadata": {},
   "outputs": [],
   "source": [
    "import pandas as pd\n",
    "\n",
    "bf = pd.read_csv('NIFTY 50_Historical_PR_14082024to14082025.csv')\n",
    "cf = pd.read_csv('14-08-2024-TO-14-08-2025-TIMETECHNO-ALL-N.csv')\n",
    "\n",
    "df = pd.DataFrame({\n",
    "    'NIFTY': bf['Close'],\n",
    "    'TIMETECHNO': cf['Close Price  ']\n",
    "})\n",
    "\n",
    "display(df)"
   ]
  },
  {
   "cell_type": "code",
   "execution_count": 3,
   "id": "d0596c5d",
   "metadata": {},
   "outputs": [
    {
     "data": {
      "text/html": [
       "<div>\n",
       "<style scoped>\n",
       "    .dataframe tbody tr th:only-of-type {\n",
       "        vertical-align: middle;\n",
       "    }\n",
       "\n",
       "    .dataframe tbody tr th {\n",
       "        vertical-align: top;\n",
       "    }\n",
       "\n",
       "    .dataframe thead th {\n",
       "        text-align: right;\n",
       "    }\n",
       "</style>\n",
       "<table border=\"1\" class=\"dataframe\">\n",
       "  <thead>\n",
       "    <tr style=\"text-align: right;\">\n",
       "      <th></th>\n",
       "      <th>NIFTY</th>\n",
       "      <th>TIMETECHNO</th>\n",
       "    </tr>\n",
       "  </thead>\n",
       "  <tbody>\n",
       "    <tr>\n",
       "      <th>0</th>\n",
       "      <td>NaN</td>\n",
       "      <td>NaN</td>\n",
       "    </tr>\n",
       "    <tr>\n",
       "      <th>1</th>\n",
       "      <td>-0.005360</td>\n",
       "      <td>0.007585</td>\n",
       "    </tr>\n",
       "    <tr>\n",
       "      <th>2</th>\n",
       "      <td>0.003988</td>\n",
       "      <td>0.018819</td>\n",
       "    </tr>\n",
       "    <tr>\n",
       "      <th>3</th>\n",
       "      <td>-0.009020</td>\n",
       "      <td>-0.009172</td>\n",
       "    </tr>\n",
       "    <tr>\n",
       "      <th>4</th>\n",
       "      <td>0.009557</td>\n",
       "      <td>0.013757</td>\n",
       "    </tr>\n",
       "  </tbody>\n",
       "</table>\n",
       "</div>"
      ],
      "text/plain": [
       "      NIFTY  TIMETECHNO\n",
       "0       NaN         NaN\n",
       "1 -0.005360    0.007585\n",
       "2  0.003988    0.018819\n",
       "3 -0.009020   -0.009172\n",
       "4  0.009557    0.013757"
      ]
     },
     "execution_count": 3,
     "metadata": {},
     "output_type": "execute_result"
    }
   ],
   "source": [
    "returns = df.pct_change()\n",
    "returns.head()"
   ]
  },
  {
   "cell_type": "code",
   "execution_count": 4,
   "id": "2189f407",
   "metadata": {},
   "outputs": [
    {
     "name": "stderr",
     "output_type": "stream",
     "text": [
      "/tmp/ipykernel_95564/1661617292.py:5: SettingWithCopyWarning: \n",
      "A value is trying to be set on a copy of a slice from a DataFrame.\n",
      "Try using .loc[row_indexer,col_indexer] = value instead\n",
      "\n",
      "See the caveats in the documentation: https://pandas.pydata.org/pandas-docs/stable/user_guide/indexing.html#returning-a-view-versus-a-copy\n",
      "  returns_cleaned['MRP'] = returns_cleaned['NIFTY']-risk_free_daily\n"
     ]
    },
    {
     "data": {
      "text/html": [
       "<div>\n",
       "<style scoped>\n",
       "    .dataframe tbody tr th:only-of-type {\n",
       "        vertical-align: middle;\n",
       "    }\n",
       "\n",
       "    .dataframe tbody tr th {\n",
       "        vertical-align: top;\n",
       "    }\n",
       "\n",
       "    .dataframe thead th {\n",
       "        text-align: right;\n",
       "    }\n",
       "</style>\n",
       "<table border=\"1\" class=\"dataframe\">\n",
       "  <thead>\n",
       "    <tr style=\"text-align: right;\">\n",
       "      <th></th>\n",
       "      <th>NIFTY</th>\n",
       "      <th>TIMETECHNO</th>\n",
       "      <th>MRP</th>\n",
       "    </tr>\n",
       "  </thead>\n",
       "  <tbody>\n",
       "    <tr>\n",
       "      <th>1</th>\n",
       "      <td>-0.005360</td>\n",
       "      <td>0.007585</td>\n",
       "      <td>-0.005609</td>\n",
       "    </tr>\n",
       "    <tr>\n",
       "      <th>2</th>\n",
       "      <td>0.003988</td>\n",
       "      <td>0.018819</td>\n",
       "      <td>0.003738</td>\n",
       "    </tr>\n",
       "    <tr>\n",
       "      <th>3</th>\n",
       "      <td>-0.009020</td>\n",
       "      <td>-0.009172</td>\n",
       "      <td>-0.009269</td>\n",
       "    </tr>\n",
       "    <tr>\n",
       "      <th>4</th>\n",
       "      <td>0.009557</td>\n",
       "      <td>0.013757</td>\n",
       "      <td>0.009308</td>\n",
       "    </tr>\n",
       "    <tr>\n",
       "      <th>5</th>\n",
       "      <td>-0.000892</td>\n",
       "      <td>-0.014838</td>\n",
       "      <td>-0.001142</td>\n",
       "    </tr>\n",
       "  </tbody>\n",
       "</table>\n",
       "</div>"
      ],
      "text/plain": [
       "      NIFTY  TIMETECHNO       MRP\n",
       "1 -0.005360    0.007585 -0.005609\n",
       "2  0.003988    0.018819  0.003738\n",
       "3 -0.009020   -0.009172 -0.009269\n",
       "4  0.009557    0.013757  0.009308\n",
       "5 -0.000892   -0.014838 -0.001142"
      ]
     },
     "execution_count": 4,
     "metadata": {},
     "output_type": "execute_result"
    }
   ],
   "source": [
    "returns_cleaned = returns.dropna()\n",
    "risk_free_annual = 0.0649\n",
    "trading_days = 252\n",
    "risk_free_daily = (1 + risk_free_annual)**(1/trading_days) - 1\n",
    "returns_cleaned['MRP'] = returns_cleaned['NIFTY']-risk_free_daily\n",
    "returns_cleaned.head()"
   ]
  },
  {
   "cell_type": "code",
   "execution_count": 5,
   "id": "8762a9cd",
   "metadata": {},
   "outputs": [
    {
     "name": "stdout",
     "output_type": "stream",
     "text": [
      "                            OLS Regression Results                            \n",
      "==============================================================================\n",
      "Dep. Variable:             TIMETECHNO   R-squared:                       0.002\n",
      "Model:                            OLS   Adj. R-squared:                 -0.002\n",
      "Method:                 Least Squares   F-statistic:                    0.5617\n",
      "Date:                Thu, 14 Aug 2025   Prob (F-statistic):              0.454\n",
      "Time:                        11:23:25   Log-Likelihood:                 508.13\n",
      "No. Observations:                 249   AIC:                            -1012.\n",
      "Df Residuals:                     247   BIC:                            -1005.\n",
      "Df Model:                           1                                         \n",
      "Covariance Type:            nonrobust                                         \n",
      "==============================================================================\n",
      "                 coef    std err          t      P>|t|      [0.025      0.975]\n",
      "------------------------------------------------------------------------------\n",
      "const          0.0011      0.002      0.528      0.598      -0.003       0.005\n",
      "MRP           -0.1813      0.242     -0.749      0.454      -0.658       0.295\n",
      "==============================================================================\n",
      "Omnibus:                        7.495   Durbin-Watson:                   1.976\n",
      "Prob(Omnibus):                  0.024   Jarque-Bera (JB):                7.667\n",
      "Skew:                           0.336   Prob(JB):                       0.0216\n",
      "Kurtosis:                       3.535   Cond. No.                         121.\n",
      "==============================================================================\n",
      "\n",
      "Notes:\n",
      "[1] Standard Errors assume that the covariance matrix of the errors is correctly specified.\n"
     ]
    }
   ],
   "source": [
    "import statsmodels.api as sm\n",
    "\n",
    "# Drop the first row with NaN values from returns DataFrame\n",
    "#returns_cleaned = returns.dropna()\n",
    "\n",
    "# Define the dependent and independent variables\n",
    "Y = returns_cleaned['TIMETECHNO']\n",
    "X = returns_cleaned['MRP']\n",
    "\n",
    "# Add a constant to the independent variable (for the intercept)\n",
    "X = sm.add_constant(X)\n",
    "\n",
    "# Create and fit the OLS model\n",
    "model = sm.OLS(Y, X)\n",
    "results = model.fit()\n",
    "\n",
    "# Print the regression results\n",
    "print(results.summary())"
   ]
  }
 ],
 "metadata": {
  "kernelspec": {
   "display_name": "base",
   "language": "python",
   "name": "python3"
  },
  "language_info": {
   "codemirror_mode": {
    "name": "ipython",
    "version": 3
   },
   "file_extension": ".py",
   "mimetype": "text/x-python",
   "name": "python",
   "nbconvert_exporter": "python",
   "pygments_lexer": "ipython3",
   "version": "3.12.7"
  }
 },
 "nbformat": 4,
 "nbformat_minor": 5
}
